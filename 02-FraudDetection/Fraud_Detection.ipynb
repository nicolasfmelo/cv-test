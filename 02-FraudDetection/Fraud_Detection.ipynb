{
 "cells": [
  {
   "cell_type": "markdown",
   "metadata": {},
   "source": [
    "# Metodologia\n",
    "GANS e Redes Siamesas se dão muito bem para discriminar uma imagem de outra optei por redes siamesas devido a um custo menor de processamento se equiparado as GANS.\n",
    "Criar um Mapa de Features extraídos da imagem.\n",
    "Utilizar Distância Euclidiana entre um mapa de features e outro.\n",
    "<h5>Arquitetura do Modelo</h5>\n",
    "Google Colab Notebook em Anexo\n",
    "<h5>Pré-Processamento</h5>\n",
    "Devido a alta resolução da imagem optei por reduzir para 224x224 mantendo o aspect ratio e preenchendo as imagens de resoluções variáveis com (Zero Padding)\n",
    "<h5>Observações:</h5>\n",
    "Devido a limitação de dados de treino não pude pensar em outra metodolgia que gere bons resultados (fiz algumas pesquisas sobre modelos de ML para assinaturas mas não ví nada satisfatório)"
   ]
  },
  {
   "cell_type": "code",
   "execution_count": 122,
   "metadata": {},
   "outputs": [],
   "source": [
    "import cv2\n",
    "import numpy as np\n",
    "import imutils\n",
    "import random\n",
    "from itertools import cycle\n",
    "import glob"
   ]
  },
  {
   "cell_type": "code",
   "execution_count": 66,
   "metadata": {},
   "outputs": [],
   "source": [
    "img = cv2.imread(\"TrainingSet/Reference/R001.png\", 0)"
   ]
  },
  {
   "cell_type": "code",
   "execution_count": 67,
   "metadata": {},
   "outputs": [],
   "source": [
    "img_resized = imutils.resize(img, 224, 224)"
   ]
  },
  {
   "cell_type": "code",
   "execution_count": 143,
   "metadata": {},
   "outputs": [
    {
     "data": {
      "text/plain": [
       "(159, 224)"
      ]
     },
     "execution_count": 143,
     "metadata": {},
     "output_type": "execute_result"
    }
   ],
   "source": [
    "img_resized.shape"
   ]
  },
  {
   "cell_type": "code",
   "execution_count": 192,
   "metadata": {},
   "outputs": [
    {
     "name": "stdout",
     "output_type": "stream",
     "text": [
      "(224, 224)\n"
     ]
    }
   ],
   "source": [
    "cv2.imshow(\"teste\",zero_padding(img_resized, 224, 224))\n",
    "cv2.waitKey(0)\n",
    "cv2.destroyAllWindows()\n",
    "print(zero_padding(img_resized, 224, 224).shape)"
   ]
  },
  {
   "cell_type": "code",
   "execution_count": 161,
   "metadata": {},
   "outputs": [],
   "source": [
    "def zero_padding(image, width, height):\n",
    "    new_size = image.shape[:2]\n",
    "    delta_w = width - new_size[1]\n",
    "    delta_h = height - new_size[0]\n",
    "    if delta_h ==0 and delta_w ==0:\n",
    "        return image\n",
    "    else:\n",
    "        top, bottom = delta_h//2, delta_h-(delta_h//2)\n",
    "        left, right = delta_w//2, delta_w-(delta_w//2)\n",
    "        color = (0, 0, 0)\n",
    "        new_im = cv2.copyMakeBorder(image, top, bottom, left, right, cv2.BORDER_CONSTANT,\n",
    "        value=color)\n",
    "        return new_im"
   ]
  },
  {
   "cell_type": "code",
   "execution_count": 75,
   "metadata": {},
   "outputs": [],
   "source": [
    "def add_noise(image,prob):\n",
    "    output = np.zeros(image.shape,np.uint8)\n",
    "    thres = 1 - prob \n",
    "    for i in range(image.shape[0]):\n",
    "        for j in range(image.shape[1]):\n",
    "            rdn = random.random()\n",
    "            if rdn < prob:\n",
    "                output[i][j] = 0\n",
    "            elif rdn > thres:\n",
    "                output[i][j] = 255\n",
    "            else:\n",
    "                output[i][j] = image[i][j]\n",
    "    return output"
   ]
  },
  {
   "cell_type": "code",
   "execution_count": 1,
   "metadata": {},
   "outputs": [],
   "source": [
    "def load_data(files, width, height, debug=False, augmented=False, percent=30):\n",
    "    X = []\n",
    "    percent = int(len(files)*(percent/100))\n",
    "    noise_range =cycle(list(range(1, 5)))\n",
    "    for file in files:\n",
    "        im = cv2.imread(file)\n",
    "        im = cv2.cvtColor(im, cv2.COLOR_BGR2GRAY)\n",
    "        im = imutils.resize(im, width, height)\n",
    "        im = zero_padding(im, width, height)\n",
    "        if augmented is True:\n",
    "            noise_rate = next(noise_range)/10\n",
    "            noise_img = sp_noise(im, noise_rate)\n",
    "            noise_img = zero_padding(noise_img, width, height)\n",
    "        if debug is True and augmented is False:\n",
    "            cv2.imshow(\"Original\",im)\n",
    "            cv2.waitKey(0)\n",
    "            cv2.destroyAllWindows()\n",
    "            debug = False\n",
    "        if augmented is True and debug is True:\n",
    "            cv2.imshow(\"Original A\",im)\n",
    "            cv2.imshow(\"Augmented\",noise_img)\n",
    "            cv2.waitKey(0)\n",
    "            cv2.destroyAllWindows()\n",
    "            print(file)\n",
    "            print(im.shape)\n",
    "            print(noise_img.shape)\n",
    "            debug = False\n",
    "        im - im.astype(np.float32)\n",
    "        im = im / 255.0\n",
    "        X.append(im)\n",
    "        noise_img = noise_img / 255.0\n",
    "        X.append(noise_img)\n",
    "        percent-=1\n",
    "        if percent == 0:\n",
    "            augmented = False\n",
    "    X = np.array(X)\n",
    "    print(X.shape)\n",
    "    train_x = X.reshape(X.shape[0], width, height, 1)\n",
    "    return train_x"
   ]
  },
  {
   "cell_type": "code",
   "execution_count": 200,
   "metadata": {},
   "outputs": [
    {
     "data": {
      "text/plain": [
       "9"
      ]
     },
     "execution_count": 200,
     "metadata": {},
     "output_type": "execute_result"
    }
   ],
   "source": [
    "files = glob.glob(\"TrainingSet/Reference/*.png\")\n",
    "len(files)"
   ]
  },
  {
   "cell_type": "code",
   "execution_count": 201,
   "metadata": {},
   "outputs": [
    {
     "name": "stdout",
     "output_type": "stream",
     "text": [
      "TrainingSet/Reference\\R001.png\n",
      "(224, 224)\n",
      "(224, 224)\n",
      "(18, 224, 224)\n"
     ]
    }
   ],
   "source": [
    "data = load_data(files, 224, 224, True, True, 25)"
   ]
  }
 ],
 "metadata": {
  "kernelspec": {
   "display_name": "Python 3",
   "language": "python",
   "name": "python3"
  },
  "language_info": {
   "codemirror_mode": {
    "name": "ipython",
    "version": 3
   },
   "file_extension": ".py",
   "mimetype": "text/x-python",
   "name": "python",
   "nbconvert_exporter": "python",
   "pygments_lexer": "ipython3",
   "version": "3.7.4"
  }
 },
 "nbformat": 4,
 "nbformat_minor": 4
}
