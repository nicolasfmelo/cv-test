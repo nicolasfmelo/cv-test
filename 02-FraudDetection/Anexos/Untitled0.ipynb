{
  "nbformat": 4,
  "nbformat_minor": 0,
  "metadata": {
    "colab": {
      "name": "Untitled0.ipynb",
      "provenance": [],
      "collapsed_sections": []
    },
    "kernelspec": {
      "name": "python3",
      "display_name": "Python 3"
    }
  },
  "cells": [
    {
      "cell_type": "code",
      "metadata": {
        "id": "INQwN2hS4w6g"
      },
      "source": [
        "from tensorflow.keras.models import Model\r\n",
        "from tensorflow.keras.layers import Input\r\n",
        "from tensorflow.keras.layers import Conv2D\r\n",
        "from tensorflow.keras.layers import Dense\r\n",
        "from tensorflow.keras.layers import Dropout\r\n",
        "from tensorflow.keras.layers import GlobalAveragePooling2D\r\n",
        "from tensorflow.keras.layers import MaxPooling2D\r\n",
        "from tensorflow.keras.layers import Input\r\n",
        "from tensorflow.keras.layers import Lambda\r\n",
        "import tensorflow.keras.backend as K\r\n",
        "import os\r\n",
        "import glob\r\n",
        "import numpy as np\r\n",
        "import cv2\r\n",
        "from google.colab.patches import cv2_imshow\r\n",
        "import imutils\r\n",
        "from tensorflow.keras.utils import to_categorical\r\n",
        "from sklearn.preprocessing import LabelEncoder\r\n",
        "def euclidean_distance(vectors):\r\n",
        "\t# unpack the vectors into separate lists\r\n",
        "\t(featsA, featsB) = vectors\r\n",
        "\r\n",
        "\t# compute the sum of squared distances between the vectors\r\n",
        "\tsumSquared = K.sum(K.square(featsA - featsB), axis=1,\r\n",
        "\t\tkeepdims=True)\r\n",
        "\r\n",
        "\t# return the euclidean distance between the vectors\r\n",
        "\treturn K.sqrt(K.maximum(sumSquared, K.epsilon()))\r\n",
        "\r\n",
        "\r\n",
        "\r\n",
        "def build_siamese_model(inputShape, embeddingDim=48):\r\n",
        "\t# specify the inputs for the feature extractor network\r\n",
        "\tinputs = Input(inputShape)\r\n",
        "\r\n",
        "\t# define the first set of CONV => RELU => POOL => DROPOUT layers\r\n",
        "\tx = Conv2D(64, (2, 2), padding=\"same\", activation=\"relu\")(inputs)\r\n",
        "\tx = MaxPooling2D(pool_size=(2, 2))(x)\r\n",
        "\tx = Dropout(0.3)(x)\r\n",
        "\r\n",
        "\t# second set of CONV => RELU => POOL => DROPOUT layers\r\n",
        "\tx = Conv2D(64, (2, 2), padding=\"same\", activation=\"relu\")(x)\r\n",
        "\tx = MaxPooling2D(pool_size=2)(x)\r\n",
        "\tx = Dropout(0.3)(x)\r\n",
        "\r\n",
        "\t# prepare the final outputs\r\n",
        "\tpooledOutput = GlobalAveragePooling2D()(x)\r\n",
        "\toutputs = Dense(embeddingDim)(pooledOutput)\r\n",
        "\r\n",
        "\t# build the model\r\n",
        "\tmodel = Model(inputs, outputs)\r\n",
        "\r\n",
        "\t# return the model to the calling function\r\n",
        "\treturn model"
      ],
      "execution_count": 50,
      "outputs": []
    },
    {
      "cell_type": "code",
      "metadata": {
        "id": "qXhXQwf45ESy"
      },
      "source": [
        "#Analisar shape minimo para a imagem"
      ],
      "execution_count": 2,
      "outputs": []
    },
    {
      "cell_type": "code",
      "metadata": {
        "id": "1ALLV0v7Dbcy"
      },
      "source": [
        "def zero_padding(image, width, height):\r\n",
        "    new_size = image.shape[:2]\r\n",
        "    delta_w = width - new_size[1]\r\n",
        "    delta_h = height - new_size[0]\r\n",
        "    if delta_w < 0:\r\n",
        "        delta_w = delta_w*-1\r\n",
        "    if delta_h <0:\r\n",
        "        delta_h = delta_h*-1\r\n",
        "    if delta_h ==0 and delta_w ==0:\r\n",
        "        return image\r\n",
        "    else:\r\n",
        "        top, bottom = delta_h//2, delta_h-(delta_h//2)\r\n",
        "        left, right = delta_w//2, delta_w-(delta_w//2)\r\n",
        "        color = (0, 0, 0)\r\n",
        "        new_im = cv2.copyMakeBorder(image, top, bottom, left, right, cv2.BORDER_CONSTANT,\r\n",
        "        value=color)\r\n",
        "        return new_im"
      ],
      "execution_count": 32,
      "outputs": []
    },
    {
      "cell_type": "code",
      "metadata": {
        "id": "qLcg-gex5JMZ"
      },
      "source": [
        "def load_data(files, width, height, debug=False, augmented=False):\r\n",
        "    X = []\r\n",
        "    for file in files:\r\n",
        "        im = cv2.imread(file,0)\r\n",
        "        im = imutils.resize(im, width, height)\r\n",
        "        im = zero_padding(im, width, height)\r\n",
        "        if debug is True:\r\n",
        "            cv2_imshow(im)\r\n",
        "            debug = False\r\n",
        "        im - im.astype(np.float32)\r\n",
        "        im = im / 255\r\n",
        "        if im.shape != (224,224):\r\n",
        "            print(file)\r\n",
        "            print(im.shape)\r\n",
        "        X.append(im)\r\n",
        "    X = np.array(X)\r\n",
        "    print(X.shape)\r\n",
        "    train_x = X.reshape(X.shape[0], width, height, 1)\r\n",
        "    return train_x\r\n"
      ],
      "execution_count": 38,
      "outputs": []
    },
    {
      "cell_type": "code",
      "metadata": {
        "id": "tYG7glK5QjHc"
      },
      "source": [
        "!cp -r /content/drive/MyDrive/TrainingSet/ /content/"
      ],
      "execution_count": 5,
      "outputs": []
    },
    {
      "cell_type": "code",
      "metadata": {
        "id": "njAZXJsG47Ap"
      },
      "source": [
        "width, height = (224, 224)"
      ],
      "execution_count": 4,
      "outputs": []
    },
    {
      "cell_type": "code",
      "metadata": {
        "id": "_b7pVsv8PzGq",
        "colab": {
          "base_uri": "https://localhost:8080/"
        },
        "outputId": "dccfa0e0-bf68-4d8c-8950-8e98e49af870"
      },
      "source": [
        "R_img = glob.glob(\"/content/TrainingSet/Reference/*.png\")\r\n",
        "S_img = glob.glob(\"/content/TrainingSet/Simulated/*.png\")\r\n",
        "print(len(R_img))\r\n",
        "print(len(S_img))"
      ],
      "execution_count": 42,
      "outputs": [
        {
          "output_type": "stream",
          "text": [
            "8\n",
            "100\n"
          ],
          "name": "stdout"
        }
      ]
    },
    {
      "cell_type": "code",
      "metadata": {
        "id": "8SxEEDhb89KD",
        "colab": {
          "base_uri": "https://localhost:8080/",
          "height": 258
        },
        "outputId": "2937b216-5e09-407a-97fd-7efe3325a800"
      },
      "source": [
        "R_train = load_data(R_img, width, height, True)"
      ],
      "execution_count": 39,
      "outputs": [
        {
          "output_type": "display_data",
          "data": {
            "image/png": "[encoded data removed]",
            "text/plain": [
              "<PIL.Image.Image image mode=L size=224x224 at 0x7FE21B559CF8>"
            ]
          },
          "metadata": {
            "tags": []
          }
        },
        {
          "output_type": "stream",
          "text": [
            "(8, 224, 224)\n"
          ],
          "name": "stdout"
        }
      ]
    },
    {
      "cell_type": "code",
      "metadata": {
        "colab": {
          "base_uri": "https://localhost:8080/",
          "height": 258
        },
        "id": "4yiOz4tBGWvW",
        "outputId": "2b567a16-c6f3-41d0-aa85-d9f0bf3003ba"
      },
      "source": [
        "S_train = load_data(S_img, width, height, True)"
      ],
      "execution_count": 43,
      "outputs": [
        {
          "output_type": "display_data",
          "data": {
            "image/png": "[encoded data removed]",
            "text/plain": [
              "<PIL.Image.Image image mode=L size=224x224 at 0x7FE21B61E240>"
            ]
          },
          "metadata": {
            "tags": []
          }
        },
        {
          "output_type": "stream",
          "text": [
            "(100, 224, 224)\n"
          ],
          "name": "stdout"
        }
      ]
    }
  ]
}